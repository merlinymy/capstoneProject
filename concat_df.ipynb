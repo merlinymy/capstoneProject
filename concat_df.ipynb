{
 "cells": [
  {
   "cell_type": "code",
   "execution_count": 1,
   "metadata": {},
   "outputs": [],
   "source": [
    "import pandas as pd\n",
    "import json\n",
    "import os\n",
    "from parse import flatten_json as fj"
   ]
  },
  {
   "cell_type": "code",
   "execution_count": 2,
   "metadata": {},
   "outputs": [],
   "source": [
    "os.chdir('/Users/Merlin/Downloads/Datasets')"
   ]
  },
  {
   "cell_type": "markdown",
   "metadata": {},
   "source": [
    "pd.set_option(\"display.max_colwidth\", -1)"
   ]
  },
  {
   "cell_type": "markdown",
   "metadata": {},
   "source": [
    "## read data in json"
   ]
  },
  {
   "cell_type": "code",
   "execution_count": 3,
   "metadata": {},
   "outputs": [],
   "source": [
    "with open('Accounting.json') as accountingData:\n",
    "    accountingData = json.load(accountingData)"
   ]
  },
  {
   "cell_type": "code",
   "execution_count": 4,
   "metadata": {},
   "outputs": [],
   "source": [
    "with open('BusinessStudiesPreliminary7e.json') as businessData:\n",
    "    businessData = json.load(businessData)"
   ]
  },
  {
   "cell_type": "code",
   "execution_count": 5,
   "metadata": {},
   "outputs": [],
   "source": [
    "with open('HealthAndHumanDevelopmentUnits3and4.json') as healthHumanData:\n",
    "    healthHumanData = json.load(healthHumanData)"
   ]
  },
  {
   "cell_type": "code",
   "execution_count": 6,
   "metadata": {},
   "outputs": [],
   "source": [
    "with open('HockenburyPsychology.json') as psychologyData:\n",
    "    psychologyData = json.load(psychologyData)"
   ]
  },
  {
   "cell_type": "code",
   "execution_count": 7,
   "metadata": {},
   "outputs": [],
   "source": [
    "with open('PrinciplesOfLife-Biology.json') as biologyData:\n",
    "    biologyData = json.load(biologyData)"
   ]
  },
  {
   "cell_type": "markdown",
   "metadata": {},
   "source": [
    "df = fj(accountingData)"
   ]
  },
  {
   "cell_type": "markdown",
   "metadata": {},
   "source": [
    "accounting = pd.json_normalize(accountingData, record_path = ['chapters','question'],meta = ['book_id','book_name','chapter_name','chapter_content','keyphrase_saved_Question_count','example_question_saved_count','keyphrase_question_nonsaved_count','example_nonsaved_count','book_id','book_name'])"
   ]
  },
  {
   "cell_type": "markdown",
   "metadata": {},
   "source": [
    "## Parse Json to csv"
   ]
  },
  {
   "cell_type": "code",
   "execution_count": 8,
   "metadata": {},
   "outputs": [],
   "source": [
    "accounting_df = pd.json_normalize(accountingData, record_path = ['chapters','questions'],\n",
    "                              meta = ['book_id','book_name',['chapters','chapter_name'],\n",
    "                                     ['chapters','chapter_content'],\n",
    "                                     ['chapters','keyphrase_saved_Question_count'],\n",
    "                                     ['chapters','example_question_saved_count'],\n",
    "                                     ['chapters','keyphrase_question_nonsaved_count'],\n",
    "                                     ['chapters','example_nonsaved_count']])"
   ]
  },
  {
   "cell_type": "code",
   "execution_count": 9,
   "metadata": {},
   "outputs": [],
   "source": [
    "business_df = pd.json_normalize(businessData, record_path = ['chapters','questions'],\n",
    "                              meta = ['book_id','book_name',['chapters','chapter_name'],\n",
    "                                     ['chapters','chapter_content'],\n",
    "                                     ['chapters','keyphrase_saved_Question_count'],\n",
    "                                     ['chapters','example_question_saved_count'],\n",
    "                                     ['chapters','keyphrase_question_nonsaved_count'],\n",
    "                                     ['chapters','example_nonsaved_count']])"
   ]
  },
  {
   "cell_type": "code",
   "execution_count": 10,
   "metadata": {},
   "outputs": [],
   "source": [
    "health_df = pd.json_normalize(healthHumanData, record_path = ['chapters','questions'],\n",
    "                              meta = ['book_id','book_name',['chapters','chapter_name'],\n",
    "                                     ['chapters','chapter_content'],\n",
    "                                     ['chapters','keyphrase_saved_Question_count'],\n",
    "                                     ['chapters','example_question_saved_count'],\n",
    "                                     ['chapters','keyphrase_question_nonsaved_count'],\n",
    "                                     ['chapters','example_nonsaved_count']])"
   ]
  },
  {
   "cell_type": "code",
   "execution_count": 11,
   "metadata": {},
   "outputs": [],
   "source": [
    "psychology_df = pd.json_normalize(psychologyData, record_path = ['chapters','questions'],\n",
    "                              meta = ['book_id','book_name',['chapters','chapter_name'],\n",
    "                                     ['chapters','chapter_content'],\n",
    "                                     ['chapters','keyphrase_saved_Question_count'],\n",
    "                                     ['chapters','example_question_saved_count'],\n",
    "                                     ['chapters','keyphrase_question_nonsaved_count'],\n",
    "                                     ['chapters','example_nonsaved_count']])"
   ]
  },
  {
   "cell_type": "code",
   "execution_count": 12,
   "metadata": {},
   "outputs": [],
   "source": [
    "biology_df = pd.json_normalize(biologyData, record_path = ['chapters','questions'],\n",
    "                              meta = ['book_id','book_name',['chapters','chapter_name'],\n",
    "                                     ['chapters','chapter_content'],\n",
    "                                     ['chapters','keyphrase_saved_Question_count'],\n",
    "                                     ['chapters','example_question_saved_count'],\n",
    "                                     ['chapters','keyphrase_question_nonsaved_count'],\n",
    "                                     ['chapters','example_nonsaved_count']])"
   ]
  },
  {
   "cell_type": "code",
   "execution_count": 13,
   "metadata": {},
   "outputs": [
    {
     "data": {
      "text/plain": [
       "True"
      ]
     },
     "execution_count": 13,
     "metadata": {},
     "output_type": "execute_result"
    }
   ],
   "source": [
    "isinstance(biology_df, pd.DataFrame)"
   ]
  },
  {
   "cell_type": "code",
   "execution_count": 14,
   "metadata": {},
   "outputs": [],
   "source": [
    "concat_df = pd.concat([accounting_df, business_df, health_df, psychology_df, biology_df], ignore_index = True)"
   ]
  },
  {
   "cell_type": "code",
   "execution_count": 15,
   "metadata": {},
   "outputs": [
    {
     "data": {
      "text/plain": [
       "Index(['question', 'choices', 'answer', 'line', 'showContext', 'heading_name',\n",
       "       'saved', 'type', 'saved.question', 'saved.choices', 'saved.answer',\n",
       "       'saved.showContext', 'saved.heading_name', 'saved.type', 'book_id',\n",
       "       'book_name', 'chapters.chapter_name', 'chapters.chapter_content',\n",
       "       'chapters.keyphrase_saved_Question_count',\n",
       "       'chapters.example_question_saved_count',\n",
       "       'chapters.keyphrase_question_nonsaved_count',\n",
       "       'chapters.example_nonsaved_count'],\n",
       "      dtype='object')"
      ]
     },
     "execution_count": 15,
     "metadata": {},
     "output_type": "execute_result"
    }
   ],
   "source": [
    "concat_df.columns"
   ]
  },
  {
   "cell_type": "code",
   "execution_count": 16,
   "metadata": {},
   "outputs": [
    {
     "data": {
      "text/plain": [
       "True"
      ]
     },
     "execution_count": 16,
     "metadata": {},
     "output_type": "execute_result"
    }
   ],
   "source": [
    "isinstance(concat_df, pd.DataFrame)"
   ]
  },
  {
   "cell_type": "markdown",
   "metadata": {},
   "source": [
    "## move columns"
   ]
  },
  {
   "cell_type": "code",
   "execution_count": 17,
   "metadata": {},
   "outputs": [],
   "source": [
    "chapter_content = concat_df['chapters.chapter_content']\n",
    "concat_df.drop(labels=['chapters.chapter_content'], axis=1,inplace = True)\n",
    "concat_df.insert(0, 'chapters.chapter_content', chapter_content)"
   ]
  },
  {
   "cell_type": "code",
   "execution_count": 18,
   "metadata": {},
   "outputs": [],
   "source": [
    "chapter_name = concat_df['chapters.chapter_name']\n",
    "concat_df.drop(labels=['chapters.chapter_name'], axis=1,inplace = True)\n",
    "concat_df.insert(0, 'chapters.chapter_name', chapter_name)"
   ]
  },
  {
   "cell_type": "code",
   "execution_count": 19,
   "metadata": {},
   "outputs": [],
   "source": [
    "book_name = concat_df['book_name']\n",
    "concat_df.drop(labels=['book_name'], axis=1,inplace = True)\n",
    "concat_df.insert(0, 'book_name', book_name)"
   ]
  },
  {
   "cell_type": "code",
   "execution_count": 20,
   "metadata": {},
   "outputs": [],
   "source": [
    "book_id = concat_df['book_id']\n",
    "concat_df.drop(labels=['book_id'], axis=1,inplace = True)\n",
    "concat_df.insert(0, 'book_id', book_id)"
   ]
  },
  {
   "cell_type": "markdown",
   "metadata": {},
   "source": [
    "## dataset output"
   ]
  },
  {
   "cell_type": "markdown",
   "metadata": {},
   "source": [
    "concat_df.head(1)"
   ]
  },
  {
   "cell_type": "markdown",
   "metadata": {},
   "source": [
    "concat_df.to_csv('capstone_df.csv')"
   ]
  },
  {
   "cell_type": "code",
   "execution_count": null,
   "metadata": {},
   "outputs": [],
   "source": []
  }
 ],
 "metadata": {
  "kernelspec": {
   "display_name": "Python 3",
   "language": "python",
   "name": "python3"
  },
  "language_info": {
   "codemirror_mode": {
    "name": "ipython",
    "version": 3
   },
   "file_extension": ".py",
   "mimetype": "text/x-python",
   "name": "python",
   "nbconvert_exporter": "python",
   "pygments_lexer": "ipython3",
   "version": "3.7.4"
  }
 },
 "nbformat": 4,
 "nbformat_minor": 4
}
